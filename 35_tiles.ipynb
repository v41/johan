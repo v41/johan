{
  "nbformat": 4,
  "nbformat_minor": 0,
  "metadata": {
    "colab": {
      "name": "35-tiles.ipynb",
      "provenance": [],
      "authorship_tag": "ABX9TyMT54Rb6aSOYx9BSuiQEIlb",
      "include_colab_link": true
    },
    "kernelspec": {
      "name": "python3",
      "display_name": "Python 3"
    },
    "language_info": {
      "name": "python"
    }
  },
  "cells": [
    {
      "cell_type": "markdown",
      "metadata": {
        "id": "view-in-github",
        "colab_type": "text"
      },
      "source": [
        "<a href=\"https://colab.research.google.com/github/v41/johan/blob/main/35_tiles.ipynb\" target=\"_parent\"><img src=\"https://colab.research.google.com/assets/colab-badge.svg\" alt=\"Open In Colab\"/></a>"
      ]
    },
    {
      "cell_type": "code",
      "source": [
        "import math, json\n",
        "import numpy as np\n",
        "from shapely import geometry"
      ],
      "metadata": {
        "id": "4EAH_wtE_d2f"
      },
      "execution_count": null,
      "outputs": []
    },
    {
      "cell_type": "code",
      "execution_count": null,
      "metadata": {
        "id": "kl2puzW8_F75"
      },
      "outputs": [],
      "source": [
        "earthRadius = 6378137\n",
        "quadrant = 2 * math.pi * earthRadius / 2\n",
        "\n",
        "def lonToX(lon):\n",
        "  'Converts given lon in WGS84 Datum to X in Spherical Mercator EPSG:3857'\n",
        "  x = lon * quadrant / 180\n",
        "  return x\n",
        "\n",
        "def latToY(lat):\n",
        "  'Converts given lat in WGS84 Datum to Y in Spherical Mercator EPSG:3857'\n",
        "  y = math.log( math.tan((90 + lat) * math.pi / 360 )) / (math.pi / 180)\n",
        "  y = y * quadrant / 180\n",
        "  return y\n",
        "\n",
        "def xToLon(x):\n",
        "  'Converts X from Spherical Mercator EPSG:3857 to lon in WGS84 Datum'\n",
        "  lon = x / quadrant * 180\n",
        "  return lon\n",
        "\n",
        "def yToLat(y):\n",
        "  'Converts Y from Spherical Mercator EPSG:3857 to lat in WGS84 Datum'\n",
        "  lat = y / quadrant * 180\n",
        "  lat = 180 / math.pi * (2 * math.atan( math.exp(lat * math.pi / 180)) - math.pi / 2)\n",
        "  return lat\n",
        "\n",
        "def genTiles(xMin, yMin, xMax, yMax, n=3):\n",
        "  'Generate tiles based on number of n'\n",
        "  xDelta = (xMax - xMin) / n\n",
        "  yDelta = (yMax - yMin) / n\n",
        "  xRange = np.arange(xMin, xMax, xDelta) #min to max\n",
        "  yRange = np.arange(yMax, yMin, -yDelta) #max to min\n",
        "    return [(i, j-yDelta, i+xDelta, j) for j in yRange[:n] for i in xRange[:n]]\n",
        "\n",
        "def getTile(n=3):\n",
        "  'Tile index mapping based on n*n'\n",
        "  if n == 2:\n",
        "    t = list('1234')\n",
        "  elif n == 3:\n",
        "    t = list('123456789')\n",
        "  elif n == 4:\n",
        "    t = list('0123456789abcdef')\n",
        "  elif n == 5:\n",
        "    t = list('abcdefghijklmnopqrstuvwxy')\n",
        "  elif n == 6:\n",
        "    t = list('0123456789abcdefghijklmnopqrstuvwxyz')\n",
        "  elif n == 7: #unstable!\n",
        "    t = list('abcdefghijklmnopqrstuvwxyzABCDEFGHIJKLMNOPQRSTUVW')\n",
        "  elif n == 8:\n",
        "    t = list('0123456789abcdefghijklmnopqrstuvwxyzABCDEFGHIJKLMNOPQRSTUVWXYZ?@')\n",
        "  return t\n",
        "\n",
        "def findIndex(longitude,latitude,zoom, geom=False,full=False):\n",
        "  x, y = lonToX(longitude), latToY(latitude)  \n",
        "  i = 1\n",
        "  tiles = ''\n",
        "  nf = 5\n",
        "  nb = 3\n",
        "  gtf = getTile(nf)\n",
        "  gtb = getTile(nb)\n",
        "  polygons = []\n",
        "  xMin, yMin, xMax, yMax = -quadrant, -quadrant, quadrant, quadrant\n",
        "  while i <= zoom:\n",
        "    if i <= 4:\n",
        "      for t, bound in zip(gtf, genTiles(xMin, yMin, xMax, yMax, n=nf)):\n",
        "        if full:\n",
        "          polygon = geometry.mapping(geometry.box(xToLon(bound[0]), yToLat(bound[1]), xToLon(bound[2]), yToLat(bound[3])))      \n",
        "          polygons.append(dict(geometry=polygon, id=tiles+t, type='Feature'))\n",
        "        if bound[0] < x < bound[2] and bound[1] < y < bound[3]:\n",
        "          xMin, yMin, xMax, yMax = bound #tile = '{0:x}'.format(t) for n=4 with hex, start from 0\n",
        "          tile = t\n",
        "#          break\n",
        "    elif i > 4:\n",
        "      for t, bound in zip(gtb, genTiles(xMin, yMin, xMax, yMax, n=nb)):\n",
        "        if full:\n",
        "          polygon = geometry.mapping(geometry.box(xToLon(bound[0]), yToLat(bound[1]), xToLon(bound[2]), yToLat(bound[3])))      \n",
        "          polygons.append(dict(geometry=polygon, id=tiles+t, type='Feature'))\n",
        "        if bound[0] < x < bound[2] and bound[1] < y < bound[3]:\n",
        "          xMin, yMin, xMax, yMax = bound #tile = '{0:x}'.format(t) for n=4 with hex, start from 0\n",
        "          tile = t\n",
        "#          break\n",
        "    i += 1\n",
        "    tiles += tile # increment tile prefix\n",
        "\n",
        "    if geom:\n",
        "      polygon = geometry.mapping(geometry.box(xToLon(xMin), yToLat(yMin), xToLon(xMax), yToLat(yMax)))\n",
        "      polygons.append(dict(type='Feature', geometry=polygon, id=tiles))\n",
        "\n",
        "  if geom:\n",
        "    geomCol = dict(type='FeatureCollection', features=polygons)\n",
        "    with open(f\"{tiles}_min.geojson\", \"w\") as filename:\n",
        "      json.dump(geomCol, filename)\n",
        "\n",
        "  if full:\n",
        "    geomCol = dict(type='FeatureCollection', features=polygons)\n",
        "    with open(f\"{tiles}_full.geojson\", \"w\") as filename:\n",
        "      json.dump(geomCol, filename)\n",
        "\n",
        "#  f = 4\n",
        "  return tiles #'-'.join(tiles[i:i+f] for i in range(0,len(tiles),f))"
      ]
    },
    {
      "cell_type": "code",
      "source": [
        "findIndex(106.9,-6.5,12)"
      ],
      "metadata": {
        "id": "QLMiaFrZ_cR2"
      },
      "execution_count": null,
      "outputs": []
    }
  ]
}